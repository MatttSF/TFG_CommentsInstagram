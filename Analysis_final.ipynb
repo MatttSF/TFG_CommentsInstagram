{
 "cells": [
  {
   "attachments": {},
   "cell_type": "markdown",
   "metadata": {},
   "source": [
    "# Imports\n"
   ]
  },
  {
   "cell_type": "code",
   "execution_count": 13,
   "metadata": {},
   "outputs": [],
   "source": [
    "import csv\n",
    "import os\n",
    "import numpy as np\n",
    "import string\n",
    "from tensorflow.keras.preprocessing.text import Tokenizer\n",
    "from tensorflow.keras.preprocessing.sequence import pad_sequences\n",
    "import matplotlib.pyplot as plt\n",
    "import pickle\n",
    "import random\n",
    "import dask.dataframe as dd\n",
    "from collections import defaultdict\n",
    "from dataclasses import dataclass\n",
    "from zipfile import ZipFile\n",
    "import pandas as pd\n",
    "import nltk\n",
    "from nltk.corpus import stopwords\n",
    "import re\n",
    "import multiprocessing\n",
    "import tensorflow as tf\n",
    "from sklearn.model_selection import KFold, train_test_split\n",
    "import spacy\n",
    "from sklearn.metrics import classification_report, accuracy_score, f1_score, precision_score, recall_score\n",
    "from sklearn.feature_extraction.text import CountVectorizer\n",
    "from sklearn.svm import SVC\n",
    "from sklearn.model_selection import GridSearchCV\n",
    "from sklearn.feature_extraction.text import TfidfVectorizer\n",
    "from sklearn.tree import DecisionTreeClassifier"
   ]
  },
  {
   "attachments": {},
   "cell_type": "markdown",
   "metadata": {},
   "source": [
    "# Load preprocessed data\n"
   ]
  },
  {
   "cell_type": "code",
   "execution_count": 14,
   "metadata": {},
   "outputs": [
    {
     "name": "stdout",
     "output_type": "stream",
     "text": [
      "Processed data: [['casanova', 'x', 'vicious', 'slash', 'face', 'alterc', 'inmat', 'tell', 'judg', 'long', 'gang', 'member'], ['michael', 'jordan', 'sell', 'major', 'ownership', 'charlott', 'hornet', 'j.', 'cole', 'minor', 'owner', 'team'], ['nba', 'suspend', 'ja', 'morant', 'game', 'late', 'gun', 'incid']]\n"
     ]
    }
   ],
   "source": [
    "# Load processed tweets with target data\n",
    "with open('processed_Dl.pkl', 'rb') as f:\n",
    "  X = pickle.load(f)\n",
    "\n",
    "print('Processed data: {}'.format(X[0:3]))\n",
    "#X = Commentario preprocessado"
   ]
  },
  {
   "cell_type": "code",
   "execution_count": 15,
   "metadata": {},
   "outputs": [
    {
     "name": "stdout",
     "output_type": "stream",
     "text": [
      "3039\n"
     ]
    }
   ],
   "source": [
    "print(len(X))#tokenized comment"
   ]
  },
  {
   "cell_type": "code",
   "execution_count": 16,
   "metadata": {},
   "outputs": [],
   "source": [
    "@dataclass\n",
    "class CONFIG():\n",
    "  \"\"\"\n",
    "  \"\"\"\n",
    "  embedding_dim = 300\n",
    "  maxlen = 50\n",
    "  vocab_size = 200000\n",
    "  truncating = 'post'\n",
    "  padding = 'post'\n",
    "  oov_token = '<OOV>'\n",
    "  max_examples = 160000\n",
    "  training_split = .9\n",
    "\n",
    "Config = CONFIG()"
   ]
  },
  {
   "cell_type": "code",
   "execution_count": 17,
   "metadata": {},
   "outputs": [],
   "source": [
    "def fit_tokenizer(train_sentences, oov_token, vocab_size):\n",
    "  tokenizer = Tokenizer(num_words = vocab_size, oov_token = oov_token)\n",
    "  tokenizer.fit_on_texts(train_sentences)\n",
    "\n",
    "  return tokenizer"
   ]
  },
  {
   "cell_type": "code",
   "execution_count": 18,
   "metadata": {},
   "outputs": [
    {
     "name": "stdout",
     "output_type": "stream",
     "text": [
      "Vocab contains 200000 words\n",
      "<OOV> token successfully placed in vocabulary!\n"
     ]
    }
   ],
   "source": [
    "tokenizer = fit_tokenizer(X, oov_token = Config.oov_token, vocab_size = Config.vocab_size)\n",
    "\n",
    "word_index = tokenizer.word_index\n",
    "\n",
    "print('Vocab contains {} words'.format(Config.vocab_size))\n",
    "print('<OOV> token successfully placed in vocabulary!' if '<OOV>' in word_index else 'No <OOV> in vocabulary! something went wrong :(')"
   ]
  },
  {
   "cell_type": "code",
   "execution_count": 19,
   "metadata": {},
   "outputs": [
    {
     "data": {
      "image/png": "[encoded data removed]",
      "text/plain": [
       "<Figure size 1600x800 with 1 Axes>"
      ]
     },
     "metadata": {},
     "output_type": "display_data"
    }
   ],
   "source": [
    "com_lengths = [len(comment) for comment in X]\n",
    "plt.figure(figsize=(16,8))\n",
    "plt.hist(com_lengths, \n",
    "         bins = 100)\n",
    "plt.axvline( Config.maxlen, \n",
    "            ls = '--',\n",
    "            c = 'red')\n",
    "plt.show()"
   ]
  },
  {
   "cell_type": "code",
   "execution_count": 20,
   "metadata": {},
   "outputs": [],
   "source": [
    "def tokenise_sentences(comments: list,\n",
    "                       tokenizer: object,\n",
    "                       padding: str,\n",
    "                       truncating: str,\n",
    "                       maxlen: int):\n",
    "  \"\"\"\n",
    "  \"\"\"\n",
    "\n",
    "  comments = tokenizer.texts_to_sequences(comments)\n",
    "\n",
    "  padded_and_trunc_comments = pad_sequences(sequences = comments,\n",
    "                                          maxlen = maxlen,\n",
    "                                          truncating = truncating,\n",
    "                                          padding = padding)\n",
    "  \n",
    "  return padded_and_trunc_comments"
   ]
  },
  {
   "cell_type": "code",
   "execution_count": 21,
   "metadata": {},
   "outputs": [
    {
     "name": "stdout",
     "output_type": "stream",
     "text": [
      "Tokenised comments have shape (3039, 50)\n"
     ]
    }
   ],
   "source": [
    "X = tokenise_sentences(X, tokenizer, Config.padding, Config.truncating, Config.maxlen) \n",
    "print('Tokenised comments have shape {}'.format(X.shape))"
   ]
  },
  {
   "cell_type": "code",
   "execution_count": 22,
   "metadata": {},
   "outputs": [],
   "source": [
    "from tensorflow.keras.models import load_model\n",
    "loaded_model = load_model('sentiment_classifier_lstm_model.h5')"
   ]
  },
  {
   "cell_type": "code",
   "execution_count": 23,
   "metadata": {},
   "outputs": [
    {
     "name": "stdout",
     "output_type": "stream",
     "text": [
      "95/95 [==============================] - 2s 15ms/step\n"
     ]
    }
   ],
   "source": [
    "predictions = loaded_model.predict(X)"
   ]
  },
  {
   "cell_type": "code",
   "execution_count": 25,
   "metadata": {},
   "outputs": [
    {
     "name": "stdout",
     "output_type": "stream",
     "text": [
      "3039\n",
      "[[0.8446879 ]\n",
      " [0.7577521 ]\n",
      " [0.77654237]\n",
      " ...\n",
      " [0.20639521]\n",
      " [0.4812062 ]\n",
      " [0.18163508]]\n"
     ]
    }
   ],
   "source": [
    "print(len(predictions))\n",
    "print(predictions)"
   ]
  },
  {
   "cell_type": "code",
   "execution_count": null,
   "metadata": {},
   "outputs": [],
   "source": [
    "realizar un threshold i contar los comentarios negativos respecto el total, generar un indice de negatividad y compararlos todos al final"
   ]
  }
 ],
 "metadata": {
  "kernelspec": {
   "display_name": "Python 3",
   "language": "python",
   "name": "python3"
  },
  "language_info": {
   "codemirror_mode": {
    "name": "ipython",
    "version": 3
   },
   "file_extension": ".py",
   "mimetype": "text/x-python",
   "name": "python",
   "nbconvert_exporter": "python",
   "pygments_lexer": "ipython3",
   "version": "3.10.2"
  },
  "orig_nbformat": 4
 },
 "nbformat": 4,
 "nbformat_minor": 2
}
