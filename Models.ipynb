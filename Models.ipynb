{
  "cells": [
    {
      "cell_type": "markdown",
      "metadata": {
        "id": "EhjUnZ_laCst"
      },
      "source": [
        "# Imports"
      ]
    },
    {
      "cell_type": "code",
      "execution_count": null,
      "metadata": {
        "id": "BmD3G_B1aCsv"
      },
      "outputs": [],
      "source": [
        "import csv\n",
        "import os\n",
        "import numpy as np\n",
        "import string\n",
        "from tensorflow.keras.preprocessing.text import Tokenizer\n",
        "from tensorflow.keras.preprocessing.sequence import pad_sequences\n",
        "import matplotlib.pyplot as plt\n",
        "import pickle\n",
        "import random\n",
        "import dask.dataframe as dd\n",
        "from collections import defaultdict\n",
        "from dataclasses import dataclass\n",
        "from zipfile import ZipFile\n",
        "import pandas as pd\n",
        "import nltk\n",
        "from nltk.corpus import stopwords\n",
        "import re\n",
        "import multiprocessing\n",
        "import tensorflow as tf\n",
        "from sklearn.model_selection import KFold, train_test_split\n",
        "import spacy\n",
        "from sklearn.metrics import classification_report, accuracy_score, f1_score, precision_score, recall_score\n",
        "from sklearn.feature_extraction.text import CountVectorizer\n",
        "from sklearn.svm import SVC\n",
        "from sklearn.model_selection import GridSearchCV\n",
        "from sklearn.feature_extraction.text import TfidfVectorizer\n",
        "from sklearn.tree import DecisionTreeClassifier"
      ]
    },
    {
      "cell_type": "code",
      "execution_count": null,
      "metadata": {
        "id": "qmMFNaG-aCsx",
        "outputId": "3f46ece0-44b5-4852-ea50-037ec4de93af"
      },
      "outputs": [
        {
          "name": "stdout",
          "output_type": "stream",
          "text": [
            "Processed data: [(['awww', 'bummer', 'shoulda', 'get', 'david', 'carr', 'day', ';d'], 0), (['upset', 'updat', 'facebook', 'text', 'cri', 'result', 'school', 'today', 'blah'], 0), (['dive', 'time', 'ball', 'manag', 'save', 'rest', 'bound'], 0)]\n"
          ]
        }
      ],
      "source": [
        "# Load processed tweets with target data\n",
        "with open('data_processed.pkl', 'rb') as f:\n",
        "  processed = pickle.load(f)\n",
        "\n",
        "print('Processed data: {}'.format(processed[0:3]))\n",
        "\n",
        "X, y = zip(*processed) #X = Commentario preprocessado, y = polaridad del comentario, si es negativo(0) o positivo(1)"
      ]
    },
    {
      "cell_type": "code",
      "execution_count": null,
      "metadata": {
        "id": "Zl7nur7TaCsx",
        "outputId": "2056e709-381f-4273-a0b0-784ec328e68e"
      },
      "outputs": [
        {
          "name": "stdout",
          "output_type": "stream",
          "text": [
            "1600000\n",
            "1600000\n"
          ]
        }
      ],
      "source": [
        "print(len(X))#tokenized comment\n",
        "print(len(y))#polarity"
      ]
    },
    {
      "cell_type": "markdown",
      "metadata": {
        "id": "X7Inf1nDaCsy"
      },
      "source": [
        "# LSTM "
      ]
    },
    {
      "cell_type": "code",
      "execution_count": null,
      "metadata": {
        "id": "M1lkR2wmaCsy"
      },
      "outputs": [],
      "source": [
        "@dataclass\n",
        "class CONFIG():\n",
        "  \"\"\"\n",
        "  \"\"\"\n",
        "  embedding_dim = 300\n",
        "  maxlen = 50\n",
        "  vocab_size = 200000\n",
        "  truncating = 'post'\n",
        "  padding = 'post'\n",
        "  oov_token = '<OOV>'\n",
        "  max_examples = 160000\n",
        "  training_split = .9\n",
        "\n",
        "Config = CONFIG()"
      ]
    },
    {
      "cell_type": "code",
      "execution_count": null,
      "metadata": {
        "id": "gLnAPxWnaCsy",
        "outputId": "0ee055da-b82c-44d5-9ede-380db936e702"
      },
      "outputs": [
        {
          "name": "stdout",
          "output_type": "stream",
          "text": [
            "Train/val size is 1500000\n",
            "Test size is 100000\n",
            "Example train/val comment: [['offic', 'way', 'cold', 'summer', 'use', 'heater', 'freez']]\n",
            "Example test comment: [['wait', 'coffe', 'kingston', 'pour', 'rain']]\n"
          ]
        }
      ],
      "source": [
        "# Split in training validation and test sets for LSTM\n",
        "X_trainLSTM, X_testLSTM, y_trainLSTM, y_testLSTM = test = train_test_split(X, y,\n",
        "                                                           shuffle = True, \n",
        "                                                           random_state=1, \n",
        "                                                           test_size = 100000,\n",
        "                                                           stratify = y)\n",
        "\n",
        "print('Train/val size is {}'.format(len(X_trainLSTM))) \n",
        "print('Test size is {}'.format(len(X_testLSTM))) \n",
        "print('Example train/val comment: {}'.format(X_trainLSTM[:1]))\n",
        "print('Example test comment: {}'.format(X_testLSTM[:1]))"
      ]
    },
    {
      "cell_type": "code",
      "execution_count": null,
      "metadata": {
        "id": "PS8ELR5kaCsz"
      },
      "outputs": [],
      "source": [
        "def fit_tokenizer(train_sentences, oov_token, vocab_size):\n",
        "  tokenizer = Tokenizer(num_words = vocab_size, oov_token = oov_token)\n",
        "  tokenizer.fit_on_texts(train_sentences)\n",
        "\n",
        "  return tokenizer"
      ]
    },
    {
      "cell_type": "code",
      "execution_count": null,
      "metadata": {
        "id": "H8pTwNDeaCsz",
        "outputId": "e18ee062-3f4a-4e26-cd11-49b4636e4518"
      },
      "outputs": [
        {
          "name": "stdout",
          "output_type": "stream",
          "text": [
            "Vocab contains 200000 words\n",
            "<OOV> token successfully placed in vocabulary!\n"
          ]
        }
      ],
      "source": [
        "tokenizer = fit_tokenizer(X, oov_token = Config.oov_token, vocab_size = Config.vocab_size)\n",
        "\n",
        "word_index = tokenizer.word_index\n",
        "\n",
        "print('Vocab contains {} words'.format(Config.vocab_size))\n",
        "print('<OOV> token successfully placed in vocabulary!' if '<OOV>' in word_index else 'No <OOV> in vocabulary! something went wrong :(')"
      ]
    },
    {
      "cell_type": "code",
      "execution_count": null,
      "metadata": {
        "id": "DKmaiLhwaCsz",
        "outputId": "6cb39744-6e89-4049-a31b-83951f8d72e0"
      },
      "outputs": [
        {
          "data": {
            "image/png": "[encoded data removed]",
            "text/plain": [
              "<Figure size 1600x800 with 1 Axes>"
            ]
          },
          "metadata": {},
          "output_type": "display_data"
        }
      ],
      "source": [
        "com_lengths = [len(comment) for comment in X]\n",
        "plt.figure(figsize=(16,8))\n",
        "plt.hist(com_lengths, \n",
        "         bins = 100)\n",
        "plt.axvline( Config.maxlen, \n",
        "            ls = '--',\n",
        "            c = 'red')\n",
        "plt.show()"
      ]
    },
    {
      "cell_type": "code",
      "execution_count": null,
      "metadata": {
        "id": "zbIAkKNyaCsz"
      },
      "outputs": [],
      "source": [
        "def tokenise_sentences(comments: list,\n",
        "                       tokenizer: object,\n",
        "                       padding: str,\n",
        "                       truncating: str,\n",
        "                       maxlen: int):\n",
        "  \"\"\"\n",
        "  \"\"\"\n",
        "\n",
        "  comments = tokenizer.texts_to_sequences(comments)\n",
        "\n",
        "  padded_and_trunc_comments = pad_sequences(sequences = comments,\n",
        "                                          maxlen = maxlen,\n",
        "                                          truncating = truncating,\n",
        "                                          padding = padding)\n",
        "  \n",
        "  return padded_and_trunc_comments"
      ]
    },
    {
      "cell_type": "code",
      "execution_count": null,
      "metadata": {
        "id": "eAnI2b2maCs0"
      },
      "outputs": [],
      "source": [
        "X_trainLSTM = tokenise_sentences(X_trainLSTM, tokenizer, Config.padding, Config.truncating, Config.maxlen) \n",
        "X_testLSTM = tokenise_sentences(X_testLSTM, tokenizer, Config.padding, Config.truncating, Config.maxlen) "
      ]
    },
    {
      "cell_type": "code",
      "execution_count": null,
      "metadata": {
        "id": "tAmVjgKgaCs0",
        "outputId": "8712aa76-c00b-40bb-d876-1c3fcee4fb1b"
      },
      "outputs": [
        {
          "name": "stdout",
          "output_type": "stream",
          "text": [
            "Tokenised comments have shape (1500000, 50)\n"
          ]
        }
      ],
      "source": [
        "print('Tokenised comments have shape {}'.format(X_trainLSTM.shape))"
      ]
    },
    {
      "cell_type": "code",
      "execution_count": null,
      "metadata": {
        "id": "hNMXL5eraCs0"
      },
      "outputs": [],
      "source": [
        "def sentiment_classifier_lstm(vocab_size, embedding_dim, maxlen):\n",
        "    model = tf.keras.Sequential([\n",
        "        tf.keras.layers.Embedding(vocab_size, embedding_dim, input_length=maxlen),\n",
        "        tf.keras.layers.Bidirectional(tf.keras.layers.LSTM(64)),\n",
        "        tf.keras.layers.Dropout(0.4),\n",
        "        tf.keras.layers.Dense(32, activation='relu'),\n",
        "        tf.keras.layers.Dropout(0.4),\n",
        "        tf.keras.layers.Dense(16, activation='relu'),\n",
        "        tf.keras.layers.Dense(1, activation='sigmoid')\n",
        "    ])\n",
        "\n",
        "    model.compile(\n",
        "        loss='binary_crossentropy',\n",
        "        optimizer=tf.keras.optimizers.Adam(learning_rate=0.001),\n",
        "        metrics=['acc']\n",
        "    )\n",
        "\n",
        "    return model"
      ]
    },
    {
      "cell_type": "code",
      "execution_count": null,
      "metadata": {
        "id": "bzAwihBkaCs0",
        "outputId": "443d6625-fe30-41e0-cee8-0231c6e07a04"
      },
      "outputs": [
        {
          "data": {
            "text/plain": [
              "<keras.engine.sequential.Sequential at 0x1491ddc4ca0>"
            ]
          },
          "execution_count": 89,
          "metadata": {},
          "output_type": "execute_result"
        }
      ],
      "source": [
        "sentiment_classifier_lstm(Config.vocab_size, Config.embedding_dim, Config.maxlen)"
      ]
    },
    {
      "cell_type": "code",
      "execution_count": null,
      "metadata": {
        "id": "7Xy8jClWaCs1"
      },
      "outputs": [],
      "source": [
        "# Instantiate model checkpoint callback\n",
        "early_stopping = tf.keras.callbacks.EarlyStopping(monitor='val_loss', mode='min', verbose=1, patience=2)\n",
        "reduce_lr = tf.keras.callbacks.ReduceLROnPlateau(monitor='val_loss',factor=0.1,patience=1,verbose=0,mode='auto')"
      ]
    },
    {
      "cell_type": "code",
      "execution_count": null,
      "metadata": {
        "id": "Xj_nwDWEaCs1"
      },
      "outputs": [],
      "source": [
        "y_trainLSTM = np.squeeze(np.array(y_trainLSTM))\n",
        "y_testLSTM  = np.squeeze(np.array(y_testLSTM))"
      ]
    },
    {
      "cell_type": "markdown",
      "metadata": {
        "id": "WW15lkyWaCs1"
      },
      "source": [
        "### Old, no metrics. Not was SMALL"
      ]
    },
    {
      "cell_type": "code",
      "execution_count": null,
      "metadata": {
        "id": "hkcxEfNqaCs1",
        "outputId": "05c17a00-4482-4bf3-e615-f145a9767f95"
      },
      "outputs": [
        {
          "data": {
            "text/plain": [
              "\"kf = KFold(n_splits=3, \\n           shuffle=True, \\n           random_state=1)\\n\\nfold = 0\\n\\n# takes a WHIIIILEEEEE to train ...\\nepochs = 3\\n\\nmodel_eval = defaultdict(list)\\n# 10 fold cross validation strategy\\nfor train_index, test_index in kf.split(X_trainLSTM):\\n    cv_X_train, cv_X_val= X_trainLSTM[train_index], X_trainLSTM[test_index]\\n    cv_y_train, cv_y_val = y_trainLSTM[train_index], y_trainLSTM[test_index]\\n    print('Fold: {}'.format(fold))\\n    print('# train: {}\\n# val: {}'.format(len(train_index), len(test_index)))\\n\\n    # reinitialise classifers to reset weights\\n    sentiment_classifier_lstm_model = sentiment_classifier_lstm(Config.vocab_size, Config.embedding_dim, Config.maxlen)\\n\\n    # train model \\n    history_lstm = sentiment_classifier_lstm_model.fit(cv_X_train,\\n                                               cv_y_train,\\n                                               validation_data = (cv_X_val, cv_y_val),\\n                                               callbacks = [early_stopping, reduce_lr],\\n                                               epochs = epochs,\\n                                               batch_size = 128)\\n\\n\\n    # make predictions on hold out validation set for each model\\n\\n    _ , acc = sentiment_classifier_lstm_model.evaluate(cv_X_val, cv_y_val)\\n\\n    # calculate performance metric\\n\\n    model_eval['sentiment_classifier_embedding_lstm'].append(acc)\\n\\n    fold += 1\\n\\n\\nperformance = np.mean(model_eval['sentiment_classifier_embedding_lstm']) - np.std(model_eval['sentiment_classifier_embedding_lstm'])\""
            ]
          },
          "execution_count": 92,
          "metadata": {},
          "output_type": "execute_result"
        }
      ],
      "source": [
        "'''kf = KFold(n_splits=3, \n",
        "           shuffle=True, \n",
        "           random_state=1)\n",
        "\n",
        "fold = 0\n",
        "\n",
        "# takes a WHIIIILEEEEE to train ...\n",
        "epochs = 3\n",
        "\n",
        "model_eval = defaultdict(list)\n",
        "# 10 fold cross validation strategy\n",
        "for train_index, test_index in kf.split(X_trainLSTM):\n",
        "    cv_X_train, cv_X_val= X_trainLSTM[train_index], X_trainLSTM[test_index]\n",
        "    cv_y_train, cv_y_val = y_trainLSTM[train_index], y_trainLSTM[test_index]\n",
        "    print('Fold: {}'.format(fold))\n",
        "    print('# train: {}\\n# val: {}'.format(len(train_index), len(test_index)))\n",
        "\n",
        "    # reinitialise classifers to reset weights\n",
        "    sentiment_classifier_lstm_model = sentiment_classifier_lstm(Config.vocab_size, Config.embedding_dim, Config.maxlen)\n",
        "\n",
        "    # train model \n",
        "    history_lstm = sentiment_classifier_lstm_model.fit(cv_X_train,\n",
        "                                               cv_y_train,\n",
        "                                               validation_data = (cv_X_val, cv_y_val),\n",
        "                                               callbacks = [early_stopping, reduce_lr],\n",
        "                                               epochs = epochs,\n",
        "                                               batch_size = 128)\n",
        "\n",
        "\n",
        "    # make predictions on hold out validation set for each model\n",
        "\n",
        "    _ , acc = sentiment_classifier_lstm_model.evaluate(cv_X_val, cv_y_val)\n",
        "\n",
        "    # calculate performance metric\n",
        "\n",
        "    model_eval['sentiment_classifier_embedding_lstm'].append(acc)\n",
        "\n",
        "    fold += 1\n",
        "\n",
        "\n",
        "performance = np.mean(model_eval['sentiment_classifier_embedding_lstm']) - np.std(model_eval['sentiment_classifier_embedding_lstm'])'''"
      ]
    },
    {
      "cell_type": "markdown",
      "metadata": {
        "id": "4MEsRoMDaCs1"
      },
      "source": [
        "### New, with metrics. SMALL"
      ]
    },
    {
      "cell_type": "code",
      "execution_count": null,
      "metadata": {
        "id": "LRvKWFsbaCs1",
        "outputId": "5baa68cf-2900-4785-88d4-a8733aa67938"
      },
      "outputs": [
        {
          "name": "stdout",
          "output_type": "stream",
          "text": [
            "Fold: 0\n",
            "# train: 32000\n",
            "# val: 8000\n",
            "Epoch 1/5\n",
            "250/250 [==============================] - 179s 703ms/step - loss: 0.5918 - acc: 0.6720 - val_loss: 0.5174 - val_acc: 0.7436 - lr: 0.0010\n",
            "Epoch 2/5\n",
            "250/250 [==============================] - 179s 713ms/step - loss: 0.4508 - acc: 0.7972 - val_loss: 0.5166 - val_acc: 0.7383 - lr: 0.0010\n",
            "Epoch 3/5\n",
            "250/250 [==============================] - 168s 674ms/step - loss: 0.3605 - acc: 0.8447 - val_loss: 0.5665 - val_acc: 0.7322 - lr: 0.0010\n",
            "Epoch 4/5\n",
            "250/250 [==============================] - 169s 674ms/step - loss: 0.2564 - acc: 0.8910 - val_loss: 0.6537 - val_acc: 0.7296 - lr: 1.0000e-04\n",
            "Epoch 4: early stopping\n",
            "250/250 [==============================] - 10s 36ms/step\n",
            "Classification Report (Fold 0):\n",
            "              precision    recall  f1-score   support\n",
            "\n",
            "           0       0.51      1.00      0.67      4073\n",
            "           1       1.00      0.00      0.00      3927\n",
            "\n",
            "    accuracy                           0.51      8000\n",
            "   macro avg       0.75      0.50      0.34      8000\n",
            "weighted avg       0.75      0.51      0.34      8000\n",
            "\n",
            "Accuracy (Fold 0): 0.509125\n",
            "F1-Score (Fold 0): 0.0\n",
            "Precision (Fold 0): 0.0\n",
            "Recall (Fold 0): 0.0\n",
            "  3/250 [..............................] - ETA: 9s - loss: 0.6887 - acc: 0.6979 "
          ]
        },
        {
          "name": "stderr",
          "output_type": "stream",
          "text": [
            "c:\\Users\\mateu\\AppData\\Local\\Programs\\Python\\Python310\\lib\\site-packages\\sklearn\\metrics\\_classification.py:1344: UndefinedMetricWarning: Precision is ill-defined and being set to 0.0 due to no predicted samples. Use `zero_division` parameter to control this behavior.\n",
            "  _warn_prf(average, modifier, msg_start, len(result))\n"
          ]
        },
        {
          "name": "stdout",
          "output_type": "stream",
          "text": [
            "250/250 [==============================] - 10s 39ms/step - loss: 0.6537 - acc: 0.7296\n",
            "Accuracy from evaluate (Fold 0): 0.7296249866485596\n",
            "Fold: 1\n",
            "# train: 32000\n",
            "# val: 8000\n",
            "Epoch 1/5\n",
            "250/250 [==============================] - 177s 699ms/step - loss: 0.5857 - acc: 0.6853 - val_loss: 0.5072 - val_acc: 0.7519 - lr: 0.0010\n",
            "Epoch 2/5\n",
            "250/250 [==============================] - 169s 675ms/step - loss: 0.4477 - acc: 0.7979 - val_loss: 0.5165 - val_acc: 0.7434 - lr: 0.0010\n",
            "Epoch 3/5\n",
            "250/250 [==============================] - 169s 676ms/step - loss: 0.3327 - acc: 0.8631 - val_loss: 0.5535 - val_acc: 0.7439 - lr: 1.0000e-04\n",
            "Epoch 3: early stopping\n",
            "250/250 [==============================] - 8s 28ms/step\n",
            "Classification Report (Fold 1):\n",
            "              precision    recall  f1-score   support\n",
            "\n",
            "           0       0.50      1.00      0.67      3992\n",
            "           1       1.00      0.00      0.00      4008\n",
            "\n",
            "    accuracy                           0.50      8000\n",
            "   macro avg       0.75      0.50      0.33      8000\n",
            "weighted avg       0.75      0.50      0.33      8000\n",
            "\n",
            "Accuracy (Fold 1): 0.499\n",
            "F1-Score (Fold 1): 0.0\n",
            "Precision (Fold 1): 0.0\n",
            "Recall (Fold 1): 0.0\n",
            "  3/250 [..............................] - ETA: 6s - loss: 0.6294 - acc: 0.7188 "
          ]
        },
        {
          "name": "stderr",
          "output_type": "stream",
          "text": [
            "c:\\Users\\mateu\\AppData\\Local\\Programs\\Python\\Python310\\lib\\site-packages\\sklearn\\metrics\\_classification.py:1344: UndefinedMetricWarning: Precision is ill-defined and being set to 0.0 due to no predicted samples. Use `zero_division` parameter to control this behavior.\n",
            "  _warn_prf(average, modifier, msg_start, len(result))\n"
          ]
        },
        {
          "name": "stdout",
          "output_type": "stream",
          "text": [
            "250/250 [==============================] - 7s 30ms/step - loss: 0.5535 - acc: 0.7439\n",
            "Accuracy from evaluate (Fold 1): 0.7438750267028809\n",
            "Fold: 2\n",
            "# train: 32000\n",
            "# val: 8000\n",
            "Epoch 1/5\n",
            "250/250 [==============================] - 175s 689ms/step - loss: 0.5811 - acc: 0.6884 - val_loss: 0.5356 - val_acc: 0.7269 - lr: 0.0010\n",
            "Epoch 2/5\n",
            "250/250 [==============================] - 170s 679ms/step - loss: 0.4411 - acc: 0.8033 - val_loss: 0.5351 - val_acc: 0.7370 - lr: 0.0010\n",
            "Epoch 3/5\n",
            "250/250 [==============================] - 168s 673ms/step - loss: 0.3497 - acc: 0.8459 - val_loss: 0.5844 - val_acc: 0.7303 - lr: 0.0010\n",
            "Epoch 4/5\n",
            "250/250 [==============================] - 168s 672ms/step - loss: 0.2510 - acc: 0.8923 - val_loss: 0.6971 - val_acc: 0.7276 - lr: 1.0000e-04\n",
            "Epoch 4: early stopping\n",
            "250/250 [==============================] - 8s 28ms/step\n",
            "Classification Report (Fold 2):\n",
            "              precision    recall  f1-score   support\n",
            "\n",
            "           0       0.50      1.00      0.67      4015\n",
            "           1       1.00      0.00      0.00      3985\n",
            "\n",
            "    accuracy                           0.50      8000\n",
            "   macro avg       0.75      0.50      0.33      8000\n",
            "weighted avg       0.75      0.50      0.34      8000\n",
            "\n",
            "Accuracy (Fold 2): 0.501875\n",
            "F1-Score (Fold 2): 0.0\n",
            "Precision (Fold 2): 0.0\n",
            "Recall (Fold 2): 0.0\n",
            "  5/250 [..............................] - ETA: 6s - loss: 0.6588 - acc: 0.6750"
          ]
        },
        {
          "name": "stderr",
          "output_type": "stream",
          "text": [
            "c:\\Users\\mateu\\AppData\\Local\\Programs\\Python\\Python310\\lib\\site-packages\\sklearn\\metrics\\_classification.py:1344: UndefinedMetricWarning: Precision is ill-defined and being set to 0.0 due to no predicted samples. Use `zero_division` parameter to control this behavior.\n",
            "  _warn_prf(average, modifier, msg_start, len(result))\n"
          ]
        },
        {
          "name": "stdout",
          "output_type": "stream",
          "text": [
            "250/250 [==============================] - 7s 29ms/step - loss: 0.6971 - acc: 0.7276\n",
            "Accuracy from evaluate (Fold 2): 0.7276250123977661\n",
            "Fold: 3\n",
            "# train: 32000\n",
            "# val: 8000\n",
            "Epoch 1/5\n",
            "250/250 [==============================] - 171s 674ms/step - loss: 0.5869 - acc: 0.6796 - val_loss: 0.5215 - val_acc: 0.7431 - lr: 0.0010\n",
            "Epoch 2/5\n",
            "250/250 [==============================] - 168s 671ms/step - loss: 0.4449 - acc: 0.8009 - val_loss: 0.5407 - val_acc: 0.7349 - lr: 0.0010\n",
            "Epoch 3/5\n",
            "250/250 [==============================] - 168s 672ms/step - loss: 0.3330 - acc: 0.8630 - val_loss: 0.5707 - val_acc: 0.7379 - lr: 1.0000e-04\n",
            "Epoch 3: early stopping\n",
            "250/250 [==============================] - 8s 28ms/step\n",
            "Classification Report (Fold 3):\n",
            "              precision    recall  f1-score   support\n",
            "\n",
            "           0       0.51      1.00      0.67      4048\n",
            "           1       1.00      0.00      0.00      3952\n",
            "\n",
            "    accuracy                           0.51      8000\n",
            "   macro avg       0.75      0.50      0.34      8000\n",
            "weighted avg       0.75      0.51      0.34      8000\n",
            "\n",
            "Accuracy (Fold 3): 0.506\n",
            "F1-Score (Fold 3): 0.0\n",
            "Precision (Fold 3): 0.0\n",
            "Recall (Fold 3): 0.0\n",
            "  5/250 [..............................] - ETA: 6s - loss: 0.6181 - acc: 0.7375"
          ]
        },
        {
          "name": "stderr",
          "output_type": "stream",
          "text": [
            "c:\\Users\\mateu\\AppData\\Local\\Programs\\Python\\Python310\\lib\\site-packages\\sklearn\\metrics\\_classification.py:1344: UndefinedMetricWarning: Precision is ill-defined and being set to 0.0 due to no predicted samples. Use `zero_division` parameter to control this behavior.\n",
            "  _warn_prf(average, modifier, msg_start, len(result))\n"
          ]
        },
        {
          "name": "stdout",
          "output_type": "stream",
          "text": [
            "250/250 [==============================] - 7s 29ms/step - loss: 0.5707 - acc: 0.7379\n",
            "Accuracy from evaluate (Fold 3): 0.7378749847412109\n",
            "Fold: 4\n",
            "# train: 32000\n",
            "# val: 8000\n",
            "Epoch 1/5\n",
            "250/250 [==============================] - 171s 674ms/step - loss: 0.5957 - acc: 0.6630 - val_loss: 0.5226 - val_acc: 0.7442 - lr: 0.0010\n",
            "Epoch 2/5\n",
            "250/250 [==============================] - 168s 671ms/step - loss: 0.4490 - acc: 0.7952 - val_loss: 0.5296 - val_acc: 0.7408 - lr: 0.0010\n",
            "Epoch 3/5\n",
            "250/250 [==============================] - 169s 676ms/step - loss: 0.3369 - acc: 0.8589 - val_loss: 0.5728 - val_acc: 0.7391 - lr: 1.0000e-04\n",
            "Epoch 3: early stopping\n",
            "250/250 [==============================] - 7s 27ms/step\n",
            "Classification Report (Fold 4):\n",
            "              precision    recall  f1-score   support\n",
            "\n",
            "           0       0.50      1.00      0.66      3983\n",
            "           1       1.00      0.00      0.00      4017\n",
            "\n",
            "    accuracy                           0.50      8000\n",
            "   macro avg       0.75      0.50      0.33      8000\n",
            "weighted avg       0.75      0.50      0.33      8000\n",
            "\n",
            "Accuracy (Fold 4): 0.497875\n",
            "F1-Score (Fold 4): 0.0\n",
            "Precision (Fold 4): 0.0\n",
            "Recall (Fold 4): 0.0\n",
            "  6/250 [..............................] - ETA: 6s - loss: 0.5765 - acc: 0.7656"
          ]
        },
        {
          "name": "stderr",
          "output_type": "stream",
          "text": [
            "c:\\Users\\mateu\\AppData\\Local\\Programs\\Python\\Python310\\lib\\site-packages\\sklearn\\metrics\\_classification.py:1344: UndefinedMetricWarning: Precision is ill-defined and being set to 0.0 due to no predicted samples. Use `zero_division` parameter to control this behavior.\n",
            "  _warn_prf(average, modifier, msg_start, len(result))\n"
          ]
        },
        {
          "name": "stdout",
          "output_type": "stream",
          "text": [
            "250/250 [==============================] - 7s 28ms/step - loss: 0.5728 - acc: 0.7391\n",
            "Accuracy from evaluate (Fold 4): 0.7391250133514404\n",
            "79/79 [==============================] - 3s 26ms/step\n",
            "Classification Report (Test Set):\n",
            "              precision    recall  f1-score   support\n",
            "\n",
            "           0       0.49      1.00      0.66      1222\n",
            "           1       0.00      0.00      0.00      1278\n",
            "\n",
            "    accuracy                           0.49      2500\n",
            "   macro avg       0.24      0.50      0.33      2500\n",
            "weighted avg       0.24      0.49      0.32      2500\n",
            "\n",
            "Accuracy (Test Set): 0.4888\n",
            "F1-Score (Test Set): 0.0\n",
            "Precision (Test Set): 0.0\n",
            "Recall (Test Set): 0.0\n"
          ]
        },
        {
          "name": "stderr",
          "output_type": "stream",
          "text": [
            "c:\\Users\\mateu\\AppData\\Local\\Programs\\Python\\Python310\\lib\\site-packages\\sklearn\\metrics\\_classification.py:1344: UndefinedMetricWarning: Precision and F-score are ill-defined and being set to 0.0 in labels with no predicted samples. Use `zero_division` parameter to control this behavior.\n",
            "  _warn_prf(average, modifier, msg_start, len(result))\n",
            "c:\\Users\\mateu\\AppData\\Local\\Programs\\Python\\Python310\\lib\\site-packages\\sklearn\\metrics\\_classification.py:1344: UndefinedMetricWarning: Precision and F-score are ill-defined and being set to 0.0 in labels with no predicted samples. Use `zero_division` parameter to control this behavior.\n",
            "  _warn_prf(average, modifier, msg_start, len(result))\n",
            "c:\\Users\\mateu\\AppData\\Local\\Programs\\Python\\Python310\\lib\\site-packages\\sklearn\\metrics\\_classification.py:1344: UndefinedMetricWarning: Precision and F-score are ill-defined and being set to 0.0 in labels with no predicted samples. Use `zero_division` parameter to control this behavior.\n",
            "  _warn_prf(average, modifier, msg_start, len(result))\n",
            "c:\\Users\\mateu\\AppData\\Local\\Programs\\Python\\Python310\\lib\\site-packages\\sklearn\\metrics\\_classification.py:1344: UndefinedMetricWarning: Precision is ill-defined and being set to 0.0 due to no predicted samples. Use `zero_division` parameter to control this behavior.\n",
            "  _warn_prf(average, modifier, msg_start, len(result))\n"
          ]
        }
      ],
      "source": [
        "kf = KFold(n_splits=5, shuffle=True, random_state=1)\n",
        "fold = 0\n",
        "epochs = 5\n",
        "\n",
        "model_eval = defaultdict(list)\n",
        "X_train_smallLSTM = X_trainLSTM[:40000]\n",
        "y_train_smallLSTM = y_trainLSTM[:40000]\n",
        "X_test_smallLSTM = X_testLSTM[:2500]\n",
        "y_test_smallLSTM = y_testLSTM[:2500]\n",
        "\n",
        "for train_index, test_index in kf.split(X_train_smallLSTM):\n",
        "    cv_X_trainLSTM, cv_X_valLSTM = X_train_smallLSTM[train_index], X_train_smallLSTM[test_index]\n",
        "    cv_y_trainLSTM, cv_y_valLSTM = y_train_smallLSTM[train_index], y_train_smallLSTM[test_index]\n",
        "    print('Fold: {}'.format(fold))\n",
        "    print('# train: {}\\n# val: {}'.format(len(train_index), len(test_index)))\n",
        "\n",
        "    sentiment_classifier_lstm_model = sentiment_classifier_lstm(Config.vocab_size, Config.embedding_dim, Config.maxlen)\n",
        "\n",
        "    history_lstm = sentiment_classifier_lstm_model.fit(cv_X_trainLSTM,\n",
        "                                                      cv_y_trainLSTM,\n",
        "                                                      validation_data=(cv_X_valLSTM, cv_y_valLSTM),\n",
        "                                                      callbacks=[early_stopping, reduce_lr],\n",
        "                                                      epochs=epochs,\n",
        "                                                      batch_size=128)\n",
        "\n",
        "    # Make predictions on the hold-out validation set for each fold\n",
        "    lstm_predictions = sentiment_classifier_lstm_model.predict(cv_X_valLSTM)\n",
        "    lstm_predictions = np.argmax(lstm_predictions, axis=1)\n",
        "\n",
        "    # Calculate performance metrics\n",
        "    lstm_report = classification_report(cv_y_valLSTM, lstm_predictions, zero_division=1)\n",
        "    print('Classification Report (Fold {}):\\n{}'.format(fold, lstm_report))\n",
        "\n",
        "    fold_accuracy = accuracy_score(cv_y_valLSTM, lstm_predictions)\n",
        "    fold_f1_score = f1_score(cv_y_valLSTM, lstm_predictions)\n",
        "    fold_precision = precision_score(cv_y_valLSTM, lstm_predictions)\n",
        "    fold_recall = recall_score(cv_y_valLSTM, lstm_predictions)\n",
        "\n",
        "    model_eval['sentiment_classifier_embedding_lstm'].append(fold_accuracy)\n",
        "\n",
        "    print('Accuracy (Fold {}): {}'.format(fold, fold_accuracy))\n",
        "    print('F1-Score (Fold {}): {}'.format(fold, fold_f1_score))\n",
        "    print('Precision (Fold {}): {}'.format(fold, fold_precision))\n",
        "    print('Recall (Fold {}): {}'.format(fold, fold_recall))\n",
        "\n",
        "    _, acc = sentiment_classifier_lstm_model.evaluate(cv_X_valLSTM, cv_y_valLSTM)\n",
        "    print('Accuracy from evaluate (Fold {}): {}'.format(fold, acc))\n",
        "\n",
        "    fold += 1\n",
        "\n",
        "performance = np.mean(model_eval['sentiment_classifier_embedding_lstm']) - np.std(model_eval['sentiment_classifier_embedding_lstm'])\n",
        "\n",
        "# Calcular métricas en el conjunto de prueba\n",
        "lstm_predictions_test = sentiment_classifier_lstm_model.predict(X_test_smallLSTM)\n",
        "lstm_predictions_test = np.argmax(lstm_predictions_test, axis=1)\n",
        "\n",
        "lstm_report_test = classification_report(y_test_smallLSTM, lstm_predictions_test)\n",
        "print('Classification Report (Test Set):\\n{}'.format(lstm_report_test))\n",
        "\n",
        "accuracy_test = accuracy_score(y_test_smallLSTM, lstm_predictions_test)\n",
        "f1_score_test = f1_score(y_test_smallLSTM, lstm_predictions_test)\n",
        "precision_test = precision_score(y_test_smallLSTM, lstm_predictions_test)\n",
        "recall_test = recall_score(y_test_smallLSTM, lstm_predictions_test)\n",
        "\n",
        "print('Accuracy (Test Set): {}'.format(accuracy_test))\n",
        "print('F1-Score (Test Set): {}'.format(f1_score_test))\n",
        "print('Precision (Test Set): {}'.format(precision_test))\n",
        "print('Recall (Test Set): {}'.format(recall_test))\n",
        "\n"
      ]
    },
    {
      "cell_type": "code",
      "execution_count": null,
      "metadata": {
        "id": "NJIrp4XlaCs2",
        "outputId": "fe2a2a0f-2307-4cbf-e6c0-14a2bc5d95ba"
      },
      "outputs": [
        {
          "data": {
            "text/plain": [
              "{1}"
            ]
          },
          "execution_count": 108,
          "metadata": {},
          "output_type": "execute_result"
        }
      ],
      "source": [
        "set(y_test_smallLSTM) - set(lstm_predictions_test)"
      ]
    },
    {
      "cell_type": "markdown",
      "metadata": {
        "id": "3YquKkU5aCs2"
      },
      "source": [
        "# SVM\n"
      ]
    },
    {
      "cell_type": "code",
      "execution_count": null,
      "metadata": {
        "id": "NXpA6Ps8aCs2",
        "outputId": "b8c6d825-8cc0-453f-d16d-a5f6a96a27b9"
      },
      "outputs": [
        {
          "name": "stdout",
          "output_type": "stream",
          "text": [
            "1600000\n",
            "1600000\n"
          ]
        }
      ],
      "source": [
        "print(len(X))#tokenized comment\n",
        "print(len(y))#polarity"
      ]
    },
    {
      "cell_type": "code",
      "execution_count": null,
      "metadata": {
        "id": "5C8oVOScaCs3",
        "outputId": "5ce16194-b6dd-4da2-bdfb-18d41f76da7d"
      },
      "outputs": [
        {
          "name": "stdout",
          "output_type": "stream",
          "text": [
            "  (0, 8795)\t0.1881957875834248\n",
            "  (0, 5862)\t0.5398787620224399\n",
            "  (0, 8778)\t0.37495511846745117\n",
            "  (0, 14166)\t0.19783307416127374\n",
            "  (0, 32487)\t0.470916662855385\n",
            "  (0, 5187)\t0.3995395892269102\n",
            "  (0, 2441)\t0.33464849475452774\n",
            "  (1, 3930)\t0.4089174758982818\n",
            "  (1, 36870)\t0.21009705832952982\n",
            "  (1, 31544)\t0.2698206592005453\n",
            "  (1, 30217)\t0.3946462967828321\n",
            "  (1, 8119)\t0.3145395584397763\n",
            "  (1, 36014)\t0.3345510735228204\n",
            "  (1, 11956)\t0.34553968021745585\n",
            "  (1, 38827)\t0.3106763569620464\n",
            "  (1, 38877)\t0.3651298567519296\n",
            "  (2, 4533)\t0.5373862923485065\n",
            "  (2, 30195)\t0.31180339506353155\n",
            "  (2, 31380)\t0.33344362089639334\n",
            "  (2, 22116)\t0.35158849227555566\n",
            "  (2, 2791)\t0.3615804330101143\n",
            "  (2, 36603)\t0.19953697772691764\n",
            "  (2, 9816)\t0.4567713699319499\n"
          ]
        }
      ],
      "source": [
        "# Crear el vectorizador\n",
        "vectorizer = TfidfVectorizer(min_df = 5,\n",
        "                             max_df = 0.8,\n",
        "                             sublinear_tf = True,\n",
        "                             use_idf = True)\n",
        "\n",
        "# Convertir los comentarios en texto plano\n",
        "X_text = [' '.join(comment) for comment in X]\n",
        "\n",
        "# Convertir los comentarios en vectores numéricos\n",
        "X_vectors = vectorizer.fit_transform(X_text)\n",
        "\n",
        "#print(X_vectors[:3])\n",
        "print(X_vectors[:3])"
      ]
    },
    {
      "cell_type": "code",
      "execution_count": null,
      "metadata": {
        "id": "OxcFxUEWaCs3",
        "outputId": "5e069ca9-fdc6-40a2-be2a-8bab581450bd"
      },
      "outputs": [
        {
          "name": "stdout",
          "output_type": "stream",
          "text": [
            "  (0, 8795)\t0.1881957875834248\n",
            "  (0, 5862)\t0.5398787620224399\n",
            "  (0, 8778)\t0.37495511846745117\n",
            "  (0, 14166)\t0.19783307416127374\n",
            "  (0, 32487)\t0.470916662855385\n",
            "  (0, 5187)\t0.3995395892269102\n",
            "  (0, 2441)\t0.33464849475452774 \n",
            "\n",
            "(0, 0, 0, 0, 0, 0, 0) \n",
            "\n",
            "\n",
            "400000\n",
            "(400000, 42600)\n"
          ]
        }
      ],
      "source": [
        "# Reducir los conjuntos de datos de entrenamiento y prueba\n",
        "import scipy.sparse as sp\n",
        "\n",
        "# Obtener la cantidad total de filas en X_vectors\n",
        "total_rows = X_vectors.shape[0]\n",
        "\n",
        "# Obtener los primeros 200,000 valores\n",
        "first_values = X_vectors[:200000, :]\n",
        "\n",
        "# Obtener los últimos 200,000 valores\n",
        "last_values = X_vectors[total_rows - 200000:, :]\n",
        "\n",
        "# Concatenar los primeros y últimos valores\n",
        "X_smallSVM = sp.vstack([first_values, last_values])\n",
        "y_smallSVM = y[:200000] + y[-200000:]\n",
        "\n",
        "\n",
        "print(X_smallSVM[:1],\"\\n\")\n",
        "print(y_smallSVM[:7],\"\\n\\n\") \n",
        "print(len(y_smallSVM))\n",
        "print(X_smallSVM.shape)"
      ]
    },
    {
      "cell_type": "code",
      "execution_count": null,
      "metadata": {
        "id": "DA5kPD1zaCs3"
      },
      "outputs": [],
      "source": [
        "# Dividir los datos en conjuntos de entrenamiento y prueba\n",
        "X_trainSVM, X_testSVM, y_trainSVM, y_testSVM = train_test_split(X_smallSVM, y_smallSVM,\n",
        "                                                           shuffle = True, \n",
        "                                                           random_state=16, \n",
        "                                                           test_size = 0.2,\n",
        "                                                           stratify = y_smallSVM)"
      ]
    },
    {
      "cell_type": "markdown",
      "metadata": {
        "id": "1nBhgoOUaCs3"
      },
      "source": [
        "### Buscant la millor C"
      ]
    },
    {
      "cell_type": "code",
      "execution_count": null,
      "metadata": {
        "id": "YmGxc4jHaCs4",
        "outputId": "94b7a597-0436-41ad-a288-72b27cf8c130"
      },
      "outputs": [
        {
          "data": {
            "text/plain": [
              "'\\n# Reducir los conjuntos de datos de entrenamiento y prueba\\nX_train_smallSVM = X_trainSVM[:50000]\\ny_train_smallSVM = y_trainSVM[:50000]\\nX_test_smallSVM = X_testSVM[:5000]\\ny_test_smallSVM = y_testSVM[:5000]\\n\\n# Crear el modelo SVM\\nsvm_model = SVC(kernel=\\'linear\\')\\n\\n# Definir los valores de C que se probarán\\nparam_grid = {\\'C\\': [0.0001, 0.001, 0.01, 0.1, 1, 10, 100, 1000]}\\n\\n# Crear el objeto GridSearchCV\\ngrid_search = GridSearchCV(estimator=svm_model, param_grid=param_grid, scoring=\\'accuracy\\', cv=5)\\n\\n# Entrenar el modelo con los datos de características numéricas\\ngrid_search.fit(X_train_smallSVM, y_train_smallSVM)\\n\\n# Obtener el mejor modelo y los mejores parámetros\\nbest_model = grid_search.best_estimator_\\nbest_params = grid_search.best_params_\\n\\n# Realizar predicciones en el conjunto de prueba con el mejor modelo\\nsvm_predictions = best_model.predict(X_test_smallSVM)\\n\\n# Calcular las métricas de evaluación\\nsvm_report = classification_report(y_test_smallSVM, svm_predictions)\\n\\nprint(\"Best parameters: \", best_params)\\nprint(\"SVM Classification Report:\")\\nprint(svm_report)\\n'"
            ]
          },
          "execution_count": 99,
          "metadata": {},
          "output_type": "execute_result"
        }
      ],
      "source": [
        "'''\n",
        "# Reducir los conjuntos de datos de entrenamiento y prueba\n",
        "X_train_smallSVM = X_trainSVM[:50000]\n",
        "y_train_smallSVM = y_trainSVM[:50000]\n",
        "X_test_smallSVM = X_testSVM[:5000]\n",
        "y_test_smallSVM = y_testSVM[:5000]\n",
        "\n",
        "# Crear el modelo SVM\n",
        "svm_model = SVC(kernel='linear')\n",
        "\n",
        "# Definir los valores de C que se probarán\n",
        "param_grid = {'C': [0.0001, 0.001, 0.01, 0.1, 1, 10, 100, 1000]}\n",
        "\n",
        "# Crear el objeto GridSearchCV\n",
        "grid_search = GridSearchCV(estimator=svm_model, param_grid=param_grid, scoring='accuracy', cv=5)\n",
        "\n",
        "# Entrenar el modelo con los datos de características numéricas\n",
        "grid_search.fit(X_train_smallSVM, y_train_smallSVM)\n",
        "\n",
        "# Obtener el mejor modelo y los mejores parámetros\n",
        "best_model = grid_search.best_estimator_\n",
        "best_params = grid_search.best_params_\n",
        "\n",
        "# Realizar predicciones en el conjunto de prueba con el mejor modelo\n",
        "svm_predictions = best_model.predict(X_test_smallSVM)\n",
        "\n",
        "# Calcular las métricas de evaluación\n",
        "svm_report = classification_report(y_test_smallSVM, svm_predictions)\n",
        "\n",
        "print(\"Best parameters: \", best_params)\n",
        "print(\"SVM Classification Report:\")\n",
        "print(svm_report)\n",
        "'''"
      ]
    },
    {
      "cell_type": "markdown",
      "metadata": {
        "id": "zPO8rQZRaCs4"
      },
      "source": [
        "## Small\n"
      ]
    },
    {
      "cell_type": "code",
      "execution_count": null,
      "metadata": {
        "id": "UwkQ3oJMaCs4",
        "outputId": "88b8acef-2f25-42ba-c62c-925d9252994f"
      },
      "outputs": [
        {
          "name": "stdout",
          "output_type": "stream",
          "text": [
            "  (0, 8544)\t0.704278372266823\n",
            "  (0, 32721)\t0.7099239215276482\n",
            "  (1, 25939)\t0.6117006361236081\n",
            "  (1, 12577)\t0.49847024089029324\n",
            "  (1, 5248)\t0.47419396919746204\n",
            "  (1, 17280)\t0.39049946259822516\n",
            "  (2, 23277)\t0.42179198663672596\n",
            "  (2, 40173)\t0.350700650327057\n",
            "  (2, 39756)\t0.3172474536403458\n",
            "  (2, 15896)\t0.36065011840771555\n",
            "  (2, 3263)\t0.3421641298888126\n",
            "  (2, 14490)\t0.23745379916599846\n",
            "  (2, 40167)\t0.32775846818917226\n",
            "  (2, 21478)\t0.25936956894634394\n",
            "  (2, 31544)\t0.346738134381526 \n",
            "\n",
            "[1, 0, 1, 1, 1, 0, 0] \n",
            "\n",
            "\n",
            "  (0, 6426)\t0.5318810621513306\n",
            "  (0, 13530)\t0.3693543958508132\n",
            "  (0, 11716)\t0.6225276805525817\n",
            "  (0, 41577)\t0.3608379399963901\n",
            "  (0, 36870)\t0.2508687585081839\n",
            "  (1, 23228)\t0.5050769549068636\n",
            "  (1, 3516)\t0.3591507128176753\n",
            "  (1, 29975)\t0.2661923349827938\n",
            "  (1, 32751)\t0.30871147851087605\n",
            "  (1, 6896)\t0.3192284379235022\n",
            "  (1, 14980)\t0.1829394267105829\n",
            "  (1, 40080)\t0.2271798728546617\n",
            "  (1, 29280)\t0.30537918207830433\n",
            "  (1, 2838)\t0.2709215918195497\n",
            "  (1, 31793)\t0.20097732966632256\n",
            "  (1, 37044)\t0.1825646764787526\n",
            "  (1, 20866)\t0.14961909297819018\n",
            "  (2, 20823)\t0.6416472230906256\n",
            "  (2, 7362)\t0.4843023299978352\n",
            "  (2, 22302)\t0.42381721993323873\n",
            "  (2, 40031)\t0.27796675170605395\n",
            "  (2, 41686)\t0.31121301915697985 \n",
            "\n",
            "[0, 1, 1, 1, 1, 1, 0, 1, 0, 1, 1, 1, 1, 0, 0, 1, 0, 1, 1, 1, 0, 1, 1, 0, 1, 1, 0, 1, 0, 0, 1, 0, 0, 1, 0, 0, 0, 1, 1, 0, 1, 1, 0, 1, 0] \n",
            "\n"
          ]
        }
      ],
      "source": [
        "# Reducir los conjuntos de datos de entrenamiento y prueba\n",
        "X_train_smallSVM = X_trainSVM[:400000]\n",
        "y_train_smallSVM = y_trainSVM[:400000]\n",
        "X_test_smallSVM = X_testSVM[:25000]\n",
        "y_test_smallSVM = y_testSVM[:25000]\n",
        "\n",
        "print(X_train_smallSVM[:3],\"\\n\")\n",
        "print(y_train_smallSVM[:7],\"\\n\\n\")\n",
        "print(X_test_smallSVM[:3],\"\\n\")\n",
        "print(y_test_smallSVM[:45],\"\\n\") "
      ]
    },
    {
      "cell_type": "code",
      "execution_count": null,
      "metadata": {
        "id": "6SAJQ3n-aCs4",
        "outputId": "0fde8011-a49e-4e28-91fa-f7c20e3147f1"
      },
      "outputs": [
        {
          "name": "stdout",
          "output_type": "stream",
          "text": [
            "160000\n"
          ]
        }
      ],
      "source": [
        "c = 0\n",
        "for u in y_train_smallSVM:\n",
        "    if u != 0:\n",
        "        c +=1\n",
        "print (c)"
      ]
    },
    {
      "cell_type": "code",
      "execution_count": null,
      "metadata": {
        "id": "GNLfK2-saCs4",
        "outputId": "2d64a6d7-af5b-4691-c17c-73e4f0743e48"
      },
      "outputs": [
        {
          "name": "stdout",
          "output_type": "stream",
          "text": [
            "Entrenando el modelo SVM...\n",
            "¡Entrenamiento completado!\n",
            "SVM Classification Report:\n",
            "              precision    recall  f1-score   support\n",
            "\n",
            "           0       0.78      0.71      0.74     12382\n",
            "           1       0.74      0.81      0.77     12618\n",
            "\n",
            "    accuracy                           0.76     25000\n",
            "   macro avg       0.76      0.76      0.76     25000\n",
            "weighted avg       0.76      0.76      0.76     25000\n",
            "\n"
          ]
        }
      ],
      "source": [
        "# Crear y entrenar el modelo SVM\n",
        "svm_model = SVC(C=0.1, kernel='linear')\n",
        "\n",
        "# Entrenar el modelo con los datos de características numéricas\n",
        "print(\"Entrenando el modelo SVM...\")\n",
        "svm_model.fit(X_train_smallSVM, y_train_smallSVM)\n",
        "print(\"¡Entrenamiento completado!\")\n",
        "# Realizar predicciones en el conjunto de prueba\n",
        "svm_predictions = svm_model.predict(X_test_smallSVM)\n",
        "\n",
        "# Calcular las métricas de evaluación\n",
        "svm_report = classification_report(y_test_smallSVM, svm_predictions)\n",
        "\n",
        "print(\"SVM Classification Report:\")\n",
        "print(svm_report)"
      ]
    },
    {
      "cell_type": "markdown",
      "metadata": {
        "id": "vLM09OpbaCs5"
      },
      "source": [
        "# Tree\n"
      ]
    },
    {
      "cell_type": "code",
      "execution_count": null,
      "metadata": {
        "id": "CAUewkwQaCs5",
        "outputId": "cdb8ba42-e0bc-4052-dd07-7dd63a9a7d98"
      },
      "outputs": [
        {
          "name": "stdout",
          "output_type": "stream",
          "text": [
            "  (0, 8795)\t0.1881957875834248\n",
            "  (0, 5862)\t0.5398787620224399\n",
            "  (0, 8778)\t0.37495511846745117\n",
            "  (0, 14166)\t0.19783307416127374\n",
            "  (0, 32487)\t0.470916662855385\n",
            "  (0, 5187)\t0.3995395892269102\n",
            "  (0, 2441)\t0.33464849475452774 \n",
            "\n",
            "(0, 0, 0, 0, 0, 0, 0) \n",
            "\n",
            "\n",
            "400000\n",
            "(400000, 42600)\n"
          ]
        }
      ],
      "source": [
        "X_smallDT = sp.vstack([first_values, last_values])\n",
        "y_smallDT = y[:200000] + y[-200000:]\n",
        "\n",
        "\n",
        "print(X_smallDT[:1],\"\\n\")\n",
        "print(y_smallDT[:7],\"\\n\\n\") \n",
        "print(len(y_smallDT))\n",
        "print(X_smallDT.shape)"
      ]
    },
    {
      "cell_type": "code",
      "execution_count": null,
      "metadata": {
        "id": "nR0G_3cuaCs5"
      },
      "outputs": [],
      "source": [
        "#podemos reciclar el vectorizado del svm\n",
        "# Dividir los datos en conjuntos de entrenamiento y prueba\n",
        "X_trainDT, X_testDT, y_trainDT, y_testDT = train_test_split(X_smallDT , y_smallDT,\n",
        "                                                           shuffle = True, \n",
        "                                                           random_state=16, \n",
        "                                                           test_size = 0.2,\n",
        "                                                           stratify = y_smallDT)"
      ]
    },
    {
      "cell_type": "code",
      "execution_count": null,
      "metadata": {
        "id": "e6X6nmhKaCs5",
        "outputId": "e893e7a6-d3c1-4c45-d335-4c02f7054708"
      },
      "outputs": [
        {
          "name": "stdout",
          "output_type": "stream",
          "text": [
            "  (0, 8544)\t0.704278372266823\n",
            "  (0, 32721)\t0.7099239215276482\n",
            "  (1, 25939)\t0.6117006361236081\n",
            "  (1, 12577)\t0.49847024089029324\n",
            "  (1, 5248)\t0.47419396919746204\n",
            "  (1, 17280)\t0.39049946259822516\n",
            "  (2, 23277)\t0.42179198663672596\n",
            "  (2, 40173)\t0.350700650327057\n",
            "  (2, 39756)\t0.3172474536403458\n",
            "  (2, 15896)\t0.36065011840771555\n",
            "  (2, 3263)\t0.3421641298888126\n",
            "  (2, 14490)\t0.23745379916599846\n",
            "  (2, 40167)\t0.32775846818917226\n",
            "  (2, 21478)\t0.25936956894634394\n",
            "  (2, 31544)\t0.346738134381526 \n",
            "\n",
            "[1, 0, 1] \n",
            "\n",
            "\n",
            "  (0, 6426)\t0.5318810621513306\n",
            "  (0, 13530)\t0.3693543958508132\n",
            "  (0, 11716)\t0.6225276805525817\n",
            "  (0, 41577)\t0.3608379399963901\n",
            "  (0, 36870)\t0.2508687585081839\n",
            "  (1, 23228)\t0.5050769549068636\n",
            "  (1, 3516)\t0.3591507128176753\n",
            "  (1, 29975)\t0.2661923349827938\n",
            "  (1, 32751)\t0.30871147851087605\n",
            "  (1, 6896)\t0.3192284379235022\n",
            "  (1, 14980)\t0.1829394267105829\n",
            "  (1, 40080)\t0.2271798728546617\n",
            "  (1, 29280)\t0.30537918207830433\n",
            "  (1, 2838)\t0.2709215918195497\n",
            "  (1, 31793)\t0.20097732966632256\n",
            "  (1, 37044)\t0.1825646764787526\n",
            "  (1, 20866)\t0.14961909297819018\n",
            "  (2, 20823)\t0.6416472230906256\n",
            "  (2, 7362)\t0.4843023299978352\n",
            "  (2, 22302)\t0.42381721993323873\n",
            "  (2, 40031)\t0.27796675170605395\n",
            "  (2, 41686)\t0.31121301915697985 \n",
            "\n",
            "[0, 1, 1] \n",
            "\n"
          ]
        }
      ],
      "source": [
        "# Reducir los conjuntos de datos de entrenamiento y prueba\n",
        "'''\n",
        "X_train_smallDT = X_trainDT[:30000]\n",
        "y_train_smallDT = y_trainDT[:30000]\n",
        "X_test_smallDT = X_testDT[:500]\n",
        "y_test_smallDT = y_testDT[:500]\n",
        "'''\n",
        "X_train_smallDT = X_trainDT[:400000]\n",
        "y_train_smallDT = y_trainDT[:400000]\n",
        "X_test_smallDT = X_testDT[:25000]\n",
        "y_test_smallDT = y_testDT[:25000]\n",
        "\n",
        "print(X_train_smallDT[:3],\"\\n\")\n",
        "print(y_train_smallDT[:3],\"\\n\\n\")\n",
        "print(X_test_smallDT[:3],\"\\n\")\n",
        "print(y_test_smallDT[:3],\"\\n\") "
      ]
    },
    {
      "cell_type": "code",
      "execution_count": null,
      "metadata": {
        "id": "sualg0tJaCs5",
        "outputId": "0143f40e-1bf6-4d04-dc34-a59d94c17022"
      },
      "outputs": [
        {
          "name": "stdout",
          "output_type": "stream",
          "text": [
            "Decision Tree Classification Report:\n",
            "              precision    recall  f1-score   support\n",
            "\n",
            "           0       0.70      0.69      0.70     12382\n",
            "           1       0.70      0.71      0.71     12618\n",
            "\n",
            "    accuracy                           0.70     25000\n",
            "   macro avg       0.70      0.70      0.70     25000\n",
            "weighted avg       0.70      0.70      0.70     25000\n",
            "\n"
          ]
        }
      ],
      "source": [
        "# Crear y entrenar el modelo de clasificación Decision Tree\n",
        "decision_tree_model = DecisionTreeClassifier()\n",
        "decision_tree_model.fit(X_train_smallDT, y_train_smallDT)\n",
        "\n",
        "# Realizar predicciones en el conjunto de prueba\n",
        "decision_tree_predictions = decision_tree_model.predict(X_test_smallDT)\n",
        "\n",
        "# Calcular las métricas de evaluación\n",
        "decision_tree_report = classification_report(y_test_smallDT, decision_tree_predictions)\n",
        "\n",
        "print(\"Decision Tree Classification Report:\")\n",
        "print(decision_tree_report)"
      ]
    }
  ],
  "metadata": {
    "kernelspec": {
      "display_name": "Python 3",
      "language": "python",
      "name": "python3"
    },
    "language_info": {
      "codemirror_mode": {
        "name": "ipython",
        "version": 3
      },
      "file_extension": ".py",
      "mimetype": "text/x-python",
      "name": "python",
      "nbconvert_exporter": "python",
      "pygments_lexer": "ipython3",
      "version": "3.10.2"
    },
    "orig_nbformat": 4,
    "colab": {
      "provenance": []
    }
  },
  "nbformat": 4,
  "nbformat_minor": 0
}